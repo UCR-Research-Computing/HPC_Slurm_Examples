{
 "cells": [
  {
   "cell_type": "code",
   "execution_count": 1,
   "metadata": {
    "execution": {
     "iopub.execute_input": "2021-03-23T01:28:45.130193Z",
     "iopub.status.busy": "2021-03-23T01:28:45.129531Z",
     "iopub.status.idle": "2021-03-23T01:28:45.133742Z",
     "shell.execute_reply": "2021-03-23T01:28:45.132895Z"
    }
   },
   "outputs": [
    {
     "name": "stdout",
     "output_type": "stream",
     "text": [
      "Hello World\n"
     ]
    }
   ],
   "source": [
    "print(\"Hello World\")"
   ]
  },
  {
   "cell_type": "code",
   "execution_count": 2,
   "metadata": {
    "execution": {
     "iopub.execute_input": "2021-03-23T01:28:45.138745Z",
     "iopub.status.busy": "2021-03-23T01:28:45.138086Z",
     "iopub.status.idle": "2021-03-23T01:28:45.141155Z",
     "shell.execute_reply": "2021-03-23T01:28:45.140535Z"
    }
   },
   "outputs": [],
   "source": [
    "x=1+1"
   ]
  },
  {
   "cell_type": "code",
   "execution_count": 3,
   "metadata": {
    "execution": {
     "iopub.execute_input": "2021-03-23T01:28:45.146185Z",
     "iopub.status.busy": "2021-03-23T01:28:45.145522Z",
     "iopub.status.idle": "2021-03-23T01:28:45.148990Z",
     "shell.execute_reply": "2021-03-23T01:28:45.148296Z"
    }
   },
   "outputs": [
    {
     "name": "stdout",
     "output_type": "stream",
     "text": [
      "2\n"
     ]
    }
   ],
   "source": [
    "print(x)"
   ]
  },
  {
   "cell_type": "code",
   "execution_count": null,
   "metadata": {},
   "outputs": [],
   "source": []
  }
 ],
 "metadata": {
  "kernelspec": {
   "display_name": "Python 3",
   "language": "python",
   "name": "python3"
  },
  "language_info": {
   "codemirror_mode": {
    "name": "ipython",
    "version": 3
   },
   "file_extension": ".py",
   "mimetype": "text/x-python",
   "name": "python",
   "nbconvert_exporter": "python",
   "pygments_lexer": "ipython3",
   "version": "3.7.9"
  }
 },
 "nbformat": 4,
 "nbformat_minor": 4
}
